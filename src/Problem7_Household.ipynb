{
 "cells": [
  {
   "cell_type": "code",
   "execution_count": 2,
   "id": "b6ffe7c0-1c68-40fa-96d4-7983b5e56556",
   "metadata": {},
   "outputs": [],
   "source": [
    "# Importing the required libraries\n",
    "\n",
    "from pathlib import Path\n",
    "\n",
    "import numpy as np\n",
    "import pandas as pd\n",
    "from tqdm import tqdm\n",
    "\n",
    "import seaborn as sns\n",
    "import matplotlib.pyplot as plt"
   ]
  },
  {
   "cell_type": "code",
   "execution_count": 3,
   "id": "2c607624-5af8-4a74-b070-3edbf65cb674",
   "metadata": {},
   "outputs": [],
   "source": [
    "# Loading the data\n",
    "\n",
    "DATA_DIR = Path().cwd().parent / \"data\"\n",
    "DATA_URL = DATA_DIR / \"household_power_consumption.txt\""
   ]
  },
  {
   "cell_type": "code",
   "execution_count": 4,
   "id": "fbf2b9fa-9201-4728-b61c-d1e300fdd159",
   "metadata": {},
   "outputs": [
    {
     "data": {
      "text/html": [
       "<div>\n",
       "<style scoped>\n",
       "    .dataframe tbody tr th:only-of-type {\n",
       "        vertical-align: middle;\n",
       "    }\n",
       "\n",
       "    .dataframe tbody tr th {\n",
       "        vertical-align: top;\n",
       "    }\n",
       "\n",
       "    .dataframe thead th {\n",
       "        text-align: right;\n",
       "    }\n",
       "</style>\n",
       "<table border=\"1\" class=\"dataframe\">\n",
       "  <thead>\n",
       "    <tr style=\"text-align: right;\">\n",
       "      <th></th>\n",
       "      <th>Date</th>\n",
       "      <th>Time</th>\n",
       "      <th>Global_active_power</th>\n",
       "      <th>Global_reactive_power</th>\n",
       "      <th>Voltage</th>\n",
       "      <th>Global_intensity</th>\n",
       "      <th>Sub_metering_1</th>\n",
       "      <th>Sub_metering_2</th>\n",
       "      <th>Sub_metering_3</th>\n",
       "    </tr>\n",
       "  </thead>\n",
       "  <tbody>\n",
       "    <tr>\n",
       "      <th>0</th>\n",
       "      <td>16/12/2006</td>\n",
       "      <td>17:24:00</td>\n",
       "      <td>4.216</td>\n",
       "      <td>0.418</td>\n",
       "      <td>234.84</td>\n",
       "      <td>18.4</td>\n",
       "      <td>0.0</td>\n",
       "      <td>1.0</td>\n",
       "      <td>17.0</td>\n",
       "    </tr>\n",
       "    <tr>\n",
       "      <th>1</th>\n",
       "      <td>16/12/2006</td>\n",
       "      <td>17:25:00</td>\n",
       "      <td>5.360</td>\n",
       "      <td>0.436</td>\n",
       "      <td>233.63</td>\n",
       "      <td>23.0</td>\n",
       "      <td>0.0</td>\n",
       "      <td>1.0</td>\n",
       "      <td>16.0</td>\n",
       "    </tr>\n",
       "    <tr>\n",
       "      <th>2</th>\n",
       "      <td>16/12/2006</td>\n",
       "      <td>17:26:00</td>\n",
       "      <td>5.374</td>\n",
       "      <td>0.498</td>\n",
       "      <td>233.29</td>\n",
       "      <td>23.0</td>\n",
       "      <td>0.0</td>\n",
       "      <td>2.0</td>\n",
       "      <td>17.0</td>\n",
       "    </tr>\n",
       "    <tr>\n",
       "      <th>3</th>\n",
       "      <td>16/12/2006</td>\n",
       "      <td>17:27:00</td>\n",
       "      <td>5.388</td>\n",
       "      <td>0.502</td>\n",
       "      <td>233.74</td>\n",
       "      <td>23.0</td>\n",
       "      <td>0.0</td>\n",
       "      <td>1.0</td>\n",
       "      <td>17.0</td>\n",
       "    </tr>\n",
       "    <tr>\n",
       "      <th>4</th>\n",
       "      <td>16/12/2006</td>\n",
       "      <td>17:28:00</td>\n",
       "      <td>3.666</td>\n",
       "      <td>0.528</td>\n",
       "      <td>235.68</td>\n",
       "      <td>15.8</td>\n",
       "      <td>0.0</td>\n",
       "      <td>1.0</td>\n",
       "      <td>17.0</td>\n",
       "    </tr>\n",
       "  </tbody>\n",
       "</table>\n",
       "</div>"
      ],
      "text/plain": [
       "         Date      Time  Global_active_power  Global_reactive_power  Voltage  \\\n",
       "0  16/12/2006  17:24:00                4.216                  0.418   234.84   \n",
       "1  16/12/2006  17:25:00                5.360                  0.436   233.63   \n",
       "2  16/12/2006  17:26:00                5.374                  0.498   233.29   \n",
       "3  16/12/2006  17:27:00                5.388                  0.502   233.74   \n",
       "4  16/12/2006  17:28:00                3.666                  0.528   235.68   \n",
       "\n",
       "   Global_intensity  Sub_metering_1  Sub_metering_2  Sub_metering_3  \n",
       "0              18.4             0.0             1.0            17.0  \n",
       "1              23.0             0.0             1.0            16.0  \n",
       "2              23.0             0.0             2.0            17.0  \n",
       "3              23.0             0.0             1.0            17.0  \n",
       "4              15.8             0.0             1.0            17.0  "
      ]
     },
     "execution_count": 4,
     "metadata": {},
     "output_type": "execute_result"
    }
   ],
   "source": [
    "dtypes = {\"Global_active_power\": float, \"Global_reactive_power\": float,\n",
    "          \"Voltage\": float, \"Global_intensity\": float, \"Sub_metering_1\": float, \"Sub_metering_2\": float, \"Sub_metering_3\": float}\n",
    "\n",
    "df = pd.read_csv(DATA_URL, sep=';', na_values=['', '?'], dtype=dtypes)\n",
    "df.head()"
   ]
  },
  {
   "cell_type": "code",
   "execution_count": 5,
   "id": "88e9a84a-7d90-4f29-b845-3e8ee58eef29",
   "metadata": {},
   "outputs": [],
   "source": [
    "df[\"Date\"] = pd.to_datetime(df[\"Date\"], dayfirst=True)"
   ]
  },
  {
   "cell_type": "code",
   "execution_count": 6,
   "id": "5f0ec798-1788-4850-a1e0-0ccfb60fc505",
   "metadata": {},
   "outputs": [],
   "source": [
    "df[\"Time\"] = pd.to_datetime(df[\"Time\"], format='%H:%M:%S')"
   ]
  },
  {
   "cell_type": "code",
   "execution_count": 7,
   "id": "7e454ed9-982d-474e-bcee-0b101946b0a3",
   "metadata": {},
   "outputs": [
    {
     "data": {
      "text/plain": [
       "(2075259, 9)"
      ]
     },
     "execution_count": 7,
     "metadata": {},
     "output_type": "execute_result"
    }
   ],
   "source": [
    "df.shape"
   ]
  },
  {
   "cell_type": "code",
   "execution_count": 8,
   "id": "85c48a7b-3494-4426-bce0-a65572677ccc",
   "metadata": {},
   "outputs": [],
   "source": [
    "df = df[:15000]"
   ]
  },
  {
   "cell_type": "code",
   "execution_count": 9,
   "id": "cf939684-4a4d-46d2-be66-d4c5dd73720a",
   "metadata": {},
   "outputs": [
    {
     "data": {
      "text/plain": [
       "(15000, 9)"
      ]
     },
     "execution_count": 9,
     "metadata": {},
     "output_type": "execute_result"
    }
   ],
   "source": [
    "df.shape"
   ]
  },
  {
   "cell_type": "code",
   "execution_count": 10,
   "id": "d8fa5efd-3fbd-44b3-8c30-4546916cd66e",
   "metadata": {},
   "outputs": [
    {
     "name": "stdout",
     "output_type": "stream",
     "text": [
      "<class 'pandas.core.frame.DataFrame'>\n",
      "RangeIndex: 15000 entries, 0 to 14999\n",
      "Data columns (total 9 columns):\n",
      " #   Column                 Non-Null Count  Dtype         \n",
      "---  ------                 --------------  -----         \n",
      " 0   Date                   15000 non-null  datetime64[ns]\n",
      " 1   Time                   15000 non-null  datetime64[ns]\n",
      " 2   Global_active_power    14998 non-null  float64       \n",
      " 3   Global_reactive_power  14998 non-null  float64       \n",
      " 4   Voltage                14998 non-null  float64       \n",
      " 5   Global_intensity       14998 non-null  float64       \n",
      " 6   Sub_metering_1         14998 non-null  float64       \n",
      " 7   Sub_metering_2         14998 non-null  float64       \n",
      " 8   Sub_metering_3         14998 non-null  float64       \n",
      "dtypes: datetime64[ns](2), float64(7)\n",
      "memory usage: 1.0 MB\n"
     ]
    }
   ],
   "source": [
    "df.info()"
   ]
  },
  {
   "cell_type": "code",
   "execution_count": 11,
   "id": "d910f321-b7f4-47d1-9c8a-a94628eb7906",
   "metadata": {},
   "outputs": [
    {
     "data": {
      "text/html": [
       "<div>\n",
       "<style scoped>\n",
       "    .dataframe tbody tr th:only-of-type {\n",
       "        vertical-align: middle;\n",
       "    }\n",
       "\n",
       "    .dataframe tbody tr th {\n",
       "        vertical-align: top;\n",
       "    }\n",
       "\n",
       "    .dataframe thead th {\n",
       "        text-align: right;\n",
       "    }\n",
       "</style>\n",
       "<table border=\"1\" class=\"dataframe\">\n",
       "  <thead>\n",
       "    <tr style=\"text-align: right;\">\n",
       "      <th></th>\n",
       "      <th>Date</th>\n",
       "      <th>Time</th>\n",
       "      <th>Global_active_power</th>\n",
       "      <th>Global_reactive_power</th>\n",
       "      <th>Voltage</th>\n",
       "      <th>Global_intensity</th>\n",
       "      <th>Sub_metering_1</th>\n",
       "      <th>Sub_metering_2</th>\n",
       "      <th>Sub_metering_3</th>\n",
       "    </tr>\n",
       "  </thead>\n",
       "  <tbody>\n",
       "    <tr>\n",
       "      <th>count</th>\n",
       "      <td>15000</td>\n",
       "      <td>15000</td>\n",
       "      <td>14998.000000</td>\n",
       "      <td>14998.000000</td>\n",
       "      <td>14998.000000</td>\n",
       "      <td>14998.000000</td>\n",
       "      <td>14998.000000</td>\n",
       "      <td>14998.000000</td>\n",
       "      <td>14998.000000</td>\n",
       "    </tr>\n",
       "    <tr>\n",
       "      <th>mean</th>\n",
       "      <td>2006-12-21 10:18:37.440000</td>\n",
       "      <td>1900-01-01 12:04:52.560000</td>\n",
       "      <td>1.923701</td>\n",
       "      <td>0.124673</td>\n",
       "      <td>241.430458</td>\n",
       "      <td>8.122096</td>\n",
       "      <td>1.395453</td>\n",
       "      <td>2.041205</td>\n",
       "      <td>7.766902</td>\n",
       "    </tr>\n",
       "    <tr>\n",
       "      <th>min</th>\n",
       "      <td>2006-12-16 00:00:00</td>\n",
       "      <td>1900-01-01 00:00:00</td>\n",
       "      <td>0.194000</td>\n",
       "      <td>0.000000</td>\n",
       "      <td>228.910000</td>\n",
       "      <td>0.800000</td>\n",
       "      <td>0.000000</td>\n",
       "      <td>0.000000</td>\n",
       "      <td>0.000000</td>\n",
       "    </tr>\n",
       "    <tr>\n",
       "      <th>25%</th>\n",
       "      <td>2006-12-19 00:00:00</td>\n",
       "      <td>1900-01-01 05:54:00</td>\n",
       "      <td>0.564000</td>\n",
       "      <td>0.000000</td>\n",
       "      <td>238.760000</td>\n",
       "      <td>2.400000</td>\n",
       "      <td>0.000000</td>\n",
       "      <td>0.000000</td>\n",
       "      <td>0.000000</td>\n",
       "    </tr>\n",
       "    <tr>\n",
       "      <th>50%</th>\n",
       "      <td>2006-12-21 00:00:00</td>\n",
       "      <td>1900-01-01 12:09:00</td>\n",
       "      <td>1.721000</td>\n",
       "      <td>0.106000</td>\n",
       "      <td>241.710000</td>\n",
       "      <td>7.200000</td>\n",
       "      <td>0.000000</td>\n",
       "      <td>0.000000</td>\n",
       "      <td>0.000000</td>\n",
       "    </tr>\n",
       "    <tr>\n",
       "      <th>75%</th>\n",
       "      <td>2006-12-24 00:00:00</td>\n",
       "      <td>1900-01-01 18:19:00</td>\n",
       "      <td>2.796000</td>\n",
       "      <td>0.188000</td>\n",
       "      <td>244.210000</td>\n",
       "      <td>11.800000</td>\n",
       "      <td>0.000000</td>\n",
       "      <td>1.000000</td>\n",
       "      <td>17.000000</td>\n",
       "    </tr>\n",
       "    <tr>\n",
       "      <th>max</th>\n",
       "      <td>2006-12-27 00:00:00</td>\n",
       "      <td>1900-01-01 23:59:00</td>\n",
       "      <td>8.698000</td>\n",
       "      <td>0.800000</td>\n",
       "      <td>251.700000</td>\n",
       "      <td>37.000000</td>\n",
       "      <td>77.000000</td>\n",
       "      <td>73.000000</td>\n",
       "      <td>20.000000</td>\n",
       "    </tr>\n",
       "    <tr>\n",
       "      <th>std</th>\n",
       "      <td>NaN</td>\n",
       "      <td>NaN</td>\n",
       "      <td>1.415092</td>\n",
       "      <td>0.114861</td>\n",
       "      <td>3.735341</td>\n",
       "      <td>5.944161</td>\n",
       "      <td>7.073659</td>\n",
       "      <td>7.646986</td>\n",
       "      <td>8.705601</td>\n",
       "    </tr>\n",
       "  </tbody>\n",
       "</table>\n",
       "</div>"
      ],
      "text/plain": [
       "                             Date                        Time  \\\n",
       "count                       15000                       15000   \n",
       "mean   2006-12-21 10:18:37.440000  1900-01-01 12:04:52.560000   \n",
       "min           2006-12-16 00:00:00         1900-01-01 00:00:00   \n",
       "25%           2006-12-19 00:00:00         1900-01-01 05:54:00   \n",
       "50%           2006-12-21 00:00:00         1900-01-01 12:09:00   \n",
       "75%           2006-12-24 00:00:00         1900-01-01 18:19:00   \n",
       "max           2006-12-27 00:00:00         1900-01-01 23:59:00   \n",
       "std                           NaN                         NaN   \n",
       "\n",
       "       Global_active_power  Global_reactive_power       Voltage  \\\n",
       "count         14998.000000           14998.000000  14998.000000   \n",
       "mean              1.923701               0.124673    241.430458   \n",
       "min               0.194000               0.000000    228.910000   \n",
       "25%               0.564000               0.000000    238.760000   \n",
       "50%               1.721000               0.106000    241.710000   \n",
       "75%               2.796000               0.188000    244.210000   \n",
       "max               8.698000               0.800000    251.700000   \n",
       "std               1.415092               0.114861      3.735341   \n",
       "\n",
       "       Global_intensity  Sub_metering_1  Sub_metering_2  Sub_metering_3  \n",
       "count      14998.000000    14998.000000    14998.000000    14998.000000  \n",
       "mean           8.122096        1.395453        2.041205        7.766902  \n",
       "min            0.800000        0.000000        0.000000        0.000000  \n",
       "25%            2.400000        0.000000        0.000000        0.000000  \n",
       "50%            7.200000        0.000000        0.000000        0.000000  \n",
       "75%           11.800000        0.000000        1.000000       17.000000  \n",
       "max           37.000000       77.000000       73.000000       20.000000  \n",
       "std            5.944161        7.073659        7.646986        8.705601  "
      ]
     },
     "execution_count": 11,
     "metadata": {},
     "output_type": "execute_result"
    }
   ],
   "source": [
    "df.describe()"
   ]
  },
  {
   "cell_type": "code",
   "execution_count": 14,
   "id": "0e61e017-4784-4649-99e8-4eb20236ed8e",
   "metadata": {},
   "outputs": [],
   "source": [
    "from sklearn.impute import SimpleImputer\n",
    "\n",
    "imp_mean = SimpleImputer(missing_values=np.nan, strategy='mean')\n",
    "\n",
    "cols_with_missing_vals = ['Global_active_power', 'Global_reactive_power', \n",
    "                          'Voltage', 'Global_intensity', 'Sub_metering_1',\n",
    "                          'Sub_metering_2', 'Sub_metering_3']\n",
    "\n",
    "df.loc[:, cols_with_missing_vals] = imp_mean.fit_transform(df.loc[:, cols_with_missing_vals])"
   ]
  },
  {
   "cell_type": "code",
   "execution_count": 15,
   "id": "1a1d32aa-3c32-495e-9a1d-05fe707f606e",
   "metadata": {},
   "outputs": [
    {
     "name": "stdout",
     "output_type": "stream",
     "text": [
      "<class 'pandas.core.frame.DataFrame'>\n",
      "RangeIndex: 15000 entries, 0 to 14999\n",
      "Data columns (total 9 columns):\n",
      " #   Column                 Non-Null Count  Dtype         \n",
      "---  ------                 --------------  -----         \n",
      " 0   Date                   15000 non-null  datetime64[ns]\n",
      " 1   Time                   15000 non-null  datetime64[ns]\n",
      " 2   Global_active_power    15000 non-null  float64       \n",
      " 3   Global_reactive_power  15000 non-null  float64       \n",
      " 4   Voltage                15000 non-null  float64       \n",
      " 5   Global_intensity       15000 non-null  float64       \n",
      " 6   Sub_metering_1         15000 non-null  float64       \n",
      " 7   Sub_metering_2         15000 non-null  float64       \n",
      " 8   Sub_metering_3         15000 non-null  float64       \n",
      "dtypes: datetime64[ns](2), float64(7)\n",
      "memory usage: 1.0 MB\n"
     ]
    }
   ],
   "source": [
    "df.info()"
   ]
  },
  {
   "cell_type": "code",
   "execution_count": 18,
   "id": "3e7f79be-a4d4-4ac8-8ca7-b8757b6fb78e",
   "metadata": {},
   "outputs": [],
   "source": [
    "from sklearn.preprocessing import MinMaxScaler"
   ]
  },
  {
   "cell_type": "code",
   "execution_count": 19,
   "id": "b7ed5bd9-7ca0-4b63-890a-0d59fdf85cd7",
   "metadata": {},
   "outputs": [],
   "source": [
    "cols = ['Global_active_power', 'Global_reactive_power',\n",
    "        'Voltage', 'Global_intensity', 'Sub_metering_1', 'Sub_metering_2',\n",
    "        'Sub_metering_3']\n",
    "\n",
    "X = df[cols].values"
   ]
  },
  {
   "cell_type": "code",
   "execution_count": 20,
   "id": "fa635a46-583d-4fd4-84bb-c68ea980850a",
   "metadata": {},
   "outputs": [],
   "source": [
    "scaler = MinMaxScaler()\n",
    "\n",
    "X_scaled = scaler.fit_transform(X)"
   ]
  },
  {
   "cell_type": "code",
   "execution_count": 22,
   "id": "264db003-2066-4797-8fb0-c92b44555369",
   "metadata": {},
   "outputs": [
    {
     "name": "stderr",
     "output_type": "stream",
     "text": [
      "Calculating distance: 100%|█████████████████████| 30/30 [00:03<00:00,  8.22it/s]\n"
     ]
    },
    {
     "name": "stdout",
     "output_type": "stream",
     "text": [
      "distance_matrix max = 2.05859375, distance_matrix min = 0.0\n"
     ]
    },
    {
     "name": "stderr",
     "output_type": "stream",
     "text": [
      "Creating neighbors: 100%|████████████████| 15000/15000 [00:22<00:00, 664.49it/s]\n"
     ]
    }
   ],
   "source": [
    "from scipy.spatial.distance import cdist\n",
    "\n",
    "\n",
    "def euclidean_distance(points) -> np.array:\n",
    "    distances = np.empty(shape=(points.shape[0], points.shape[0]), dtype=np.float16)\n",
    "\n",
    "    chunk_size = 500\n",
    "    idx = 0\n",
    "\n",
    "    for idx in tqdm(range(0, points.shape[0], chunk_size), desc=\"Calculating distance\"):\n",
    "        points_subset = points[idx : idx + chunk_size, :]\n",
    "        \n",
    "        distances[idx : idx + chunk_size, :] = cdist(points_subset, points)\n",
    "        idx += chunk_size\n",
    "\n",
    "    return distances\n",
    "\n",
    "def create_neighbors(X: np.array, eps: float) -> pd.DataFrame:\n",
    "    # X = df[[\"x\", \"y\"]]\n",
    "    distance_matrix = euclidean_distance(X)\n",
    "\n",
    "    print(f\"distance_matrix max = {distance_matrix.max()}, distance_matrix min = {distance_matrix.min()}\")\n",
    "\n",
    "    df = pd.DataFrame()\n",
    "    for idx in tqdm(range(distance_matrix.shape[0]), desc=\"Creating neighbors\"):\n",
    "        neighbors_array = np.where(distance_matrix[idx, :] <= eps)[0]\n",
    "        \n",
    "        df.loc[idx, \"neighbors\"] = \",\".join(\n",
    "            list(map(str, neighbors_array))\n",
    "        )\n",
    "\n",
    "        df.loc[idx, \"num_neighbors\"] = neighbors_array.shape[0]\n",
    "\n",
    "        df.loc[idx, \"pt\"] = idx\n",
    "\n",
    "    df = df.astype({\"num_neighbors\": int, \"pt\": int})\n",
    "\n",
    "    df[\"cluster\"] = np.nan\n",
    "    \n",
    "    return df\n",
    "\n",
    "df = create_neighbors(X_scaled, eps=0.15)"
   ]
  },
  {
   "cell_type": "code",
   "execution_count": 23,
   "id": "ad1fe7e9-defa-4f74-bd4e-545d4b600a32",
   "metadata": {},
   "outputs": [],
   "source": [
    "class CustomDBSCAN:\n",
    "\n",
    "    def __init__(self, eps: float, min_pts: int):\n",
    "        self.eps = eps\n",
    "        self.min_pts = min_pts\n",
    "\n",
    "    \n",
    "    def fit_predict(self, df: pd.DataFrame):        \n",
    "        cluster_id = 0\n",
    "        \n",
    "        has_set_cluster = False\n",
    "        num_points_without_cluster = df[\"cluster\"].isna().sum()\n",
    "        \n",
    "        while num_points_without_cluster > 0:\n",
    "            random_starting_point = df[df[\"cluster\"].isna()].sample(n=1)\n",
    "\n",
    "            queue = []\n",
    "            queue.append(int(random_starting_point[\"pt\"]))\n",
    "\n",
    "            pts_visited = set()\n",
    "            pts_visited.add(int(random_starting_point[\"pt\"]))\n",
    "\n",
    "            has_set_cluster = False\n",
    "\n",
    "            while len(queue) > 0:\n",
    "                point = queue.pop(0)\n",
    "\n",
    "                # Setting the cluster id to this point\n",
    "                if has_set_cluster or df[df[\"pt\"] == point][\"num_neighbors\"].item() >= self.min_pts:\n",
    "                    df.loc[df[\"pt\"] == point, \"cluster\"] = cluster_id\n",
    "            \n",
    "                    # Adding all the neighbors to the queue\n",
    "                    for neighbor in df[df[\"pt\"] == point][\"neighbors\"].item().split(\",\"):\n",
    "                        if int(neighbor) not in pts_visited:\n",
    "                            queue.append(int(neighbor))\n",
    "                            pts_visited.add(int(neighbor))\n",
    "\n",
    "                    has_set_cluster = True\n",
    "\n",
    "                else:\n",
    "                    df.loc[df[\"pt\"] == point, \"cluster\"] = -1\n",
    "\n",
    "            if has_set_cluster:\n",
    "                cluster_id += 1\n",
    "\n",
    "            num_points_without_cluster = df[\"cluster\"].isna().sum()\n",
    "\n",
    "        df[\"cluster\"] = df[\"cluster\"].astype(int)\n",
    "        \n",
    "        return df"
   ]
  },
  {
   "cell_type": "code",
   "execution_count": 33,
   "id": "c296877a-5c73-4aa5-a876-fb45410215e3",
   "metadata": {},
   "outputs": [],
   "source": [
    "dbscan = CustomDBSCAN(eps=0.15, min_pts=25)"
   ]
  },
  {
   "cell_type": "code",
   "execution_count": 34,
   "id": "4ba15fc7-5b23-4a30-a7f6-eefc2dcb84b2",
   "metadata": {},
   "outputs": [
    {
     "name": "stderr",
     "output_type": "stream",
     "text": [
      "/tmp/ipykernel_15506/3812776189.py:18: FutureWarning: Calling int on a single element Series is deprecated and will raise a TypeError in the future. Use int(ser.iloc[0]) instead\n",
      "  queue.append(int(random_starting_point[\"pt\"]))\n",
      "/tmp/ipykernel_15506/3812776189.py:21: FutureWarning: Calling int on a single element Series is deprecated and will raise a TypeError in the future. Use int(ser.iloc[0]) instead\n",
      "  pts_visited.add(int(random_starting_point[\"pt\"]))\n"
     ]
    }
   ],
   "source": [
    "result_df = dbscan.fit_predict(df.copy())"
   ]
  },
  {
   "cell_type": "code",
   "execution_count": 35,
   "id": "b2b7b05d-c60b-4de1-a9ac-d37b86e83397",
   "metadata": {},
   "outputs": [
    {
     "data": {
      "text/plain": [
       "cluster\n",
       " 0    8096\n",
       " 1    6540\n",
       "-1     254\n",
       " 2     110\n",
       "Name: count, dtype: int64"
      ]
     },
     "execution_count": 35,
     "metadata": {},
     "output_type": "execute_result"
    }
   ],
   "source": [
    "result_df.cluster.value_counts()"
   ]
  },
  {
   "cell_type": "code",
   "execution_count": 29,
   "id": "badecfa6-3cc6-4b65-bf95-f961d62da483",
   "metadata": {},
   "outputs": [],
   "source": [
    "from sklearn.decomposition import PCA\n",
    "from sklearn.preprocessing import StandardScaler\n",
    "\n",
    "standardized_data = StandardScaler().fit_transform(X_scaled)\n",
    "\n",
    "pca = PCA(n_components=2)\n",
    "\n",
    "pca_data = pca.fit_transform(standardized_data)"
   ]
  },
  {
   "cell_type": "code",
   "execution_count": 36,
   "id": "14cab6a2-ea9e-4b86-a024-f07b84f2f851",
   "metadata": {},
   "outputs": [],
   "source": [
    "pca_df = pd.DataFrame(pca_data, columns=[\"component_1\", \"component_2\"])\n",
    "pca_df[\"cluster_label\"] = result_df[\"cluster\"]"
   ]
  },
  {
   "cell_type": "code",
   "execution_count": 37,
   "id": "d14ef29b-1e99-4202-94c9-cbe72463ca16",
   "metadata": {},
   "outputs": [
    {
     "data": {
      "image/png": "[encoded data removed]",
      "text/plain": [
       "<Figure size 698.986x600 with 1 Axes>"
      ]
     },
     "metadata": {},
     "output_type": "display_data"
    }
   ],
   "source": [
    "import seaborn as sn\n",
    "\n",
    "sn.FacetGrid(pca_df, hue='cluster_label', height=6).map(plt.scatter, 'component_1', 'component_2').add_legend()\n",
    "plt.show()"
   ]
  },
  {
   "cell_type": "code",
   "execution_count": null,
   "id": "96cc20e1-4d31-4227-aa99-5a42347c6418",
   "metadata": {},
   "outputs": [],
   "source": []
  }
 ],
 "metadata": {
  "kernelspec": {
   "display_name": "Python 3 (ipykernel)",
   "language": "python",
   "name": "python3"
  },
  "language_info": {
   "codemirror_mode": {
    "name": "ipython",
    "version": 3
   },
   "file_extension": ".py",
   "mimetype": "text/x-python",
   "name": "python",
   "nbconvert_exporter": "python",
   "pygments_lexer": "ipython3",
   "version": "3.10.12"
  }
 },
 "nbformat": 4,
 "nbformat_minor": 5
}
